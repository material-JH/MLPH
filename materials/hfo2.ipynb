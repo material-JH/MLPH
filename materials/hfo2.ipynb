{
 "cells": [
  {
   "cell_type": "code",
   "execution_count": null,
   "id": "c4f3d0de",
   "metadata": {},
   "outputs": [],
   "source": [
    "from pymatgen import Structure\n",
    "from monty.serialization import loadfn\n",
    "import os\n",
    "\n",
    "os.chdir('/home/jinho93/test/ml/hfo2')\n",
    "\n",
    "data = loadfn('data.json')\n",
    "train_structures = [d['structure'] for d in data]\n",
    "train_energies = [d['outputs']['energy'] for d in data]\n",
    "train_forces = [d['outputs']['forces'] for d in data]\n",
    "\n"
   ]
  },
  {
   "cell_type": "code",
   "execution_count": null,
   "id": "36ab6a08",
   "metadata": {},
   "outputs": [],
   "source": [
    "from maml.apps.pes import SNAPotential\n",
    "nnp = SNAPotential()\n",
    "nnp.train(train_structures=train_structures,\n",
    "          train_energies=train_energies,\n",
    "          train_forces=train_forces,\n",
    "          cutoff_type=1, atom_energy={'Hf': -10.14, 'O': -4.14},\n",
    "          r_etas = [0.5, 1.0, 2.0],\n",
    "          a_etas = [0.5, 2.0],\n",
    "          r_shift=[0.0],\n",
    "          zetas=[1.0, 4.0],\n",
    "          epochs = 100, r_cut=5, hidden_layers=[24, 24])"
   ]
  },
  {
   "cell_type": "code",
   "execution_count": null,
   "id": "376b3b17",
   "metadata": {},
   "outputs": [],
   "source": [
    "import numpy as np\n",
    "from maml.utils import pool_from, convert_docs\n",
    "\n",
    "train_pool = pool_from(train_structures, train_energies, train_forces)\n",
    "_, df = convert_docs(train_pool)\n",
    "\n",
    "weights = np.ones(len(df['dtype']), )\n",
    "\n",
    "# set the weights for energy equal to 100\n",
    "weights[df['dtype'] == 'energy'] = 1\n",
    "weights[df['dtype'] == 'force'] = 10000\n",
    "\n",
    "from maml.base import SKLModel\n",
    "from maml.describers import BispectrumCoefficients\n",
    "from sklearn.linear_model import LinearRegression\n",
    "from maml.apps.pes import SNAPotential\n",
    "\n",
    "element_profile = {'Hf': {'r': 6.0, 'w': 1}, 'O': {'r': 6.0, 'w': 1}}\n",
    "describer = BispectrumCoefficients(rcutfac=0.5, twojmax=8, element_profile=element_profile, \n",
    "                                   quadratic=False, pot_fit=True)\n",
    "model = SKLModel(describer=describer, model=LinearRegression())\n",
    "snap = SNAPotential(model=model)\n",
    "snap.train(train_structures, train_energies, train_forces, sample_weight=weights)"
   ]
  },
  {
   "cell_type": "code",
   "execution_count": null,
   "id": "4a646a6d",
   "metadata": {},
   "outputs": [],
   "source": [
    "from phonopy.interface.calculator import read_crystal_structure\n",
    "unitcell, _ = read_crystal_structure(\"BPOSCAR\", interface_mode='vasp')"
   ]
  },
  {
   "cell_type": "code",
   "execution_count": null,
   "id": "20192ae6",
   "metadata": {},
   "outputs": [],
   "source": [
    "nnp.write_input()\n",
    "nnp.write_param()"
   ]
  },
  {
   "cell_type": "code",
   "execution_count": null,
   "id": "8e2bce9f",
   "metadata": {},
   "outputs": [],
   "source": [
    "\n",
    "from maml.apps.pes import EnergyForceStress\n",
    "from pymatgen import Structure\n",
    "\n",
    "# efs_calculator = EnergyForceStress(ff_settings=nnp)\n",
    "# efs_calculator.set_lmp_exe('/home/jinho93/Downloads/n2p2/bin/lmp_mpi')\n",
    "\n",
    "efs_calculator = EnergyForceStress(ff_settings=snap)\n",
    "# efs_calculator.set_lmp_exe('/home/jinho93/Downloads/ls /bin/lmp_mpi')\n",
    "efs_calculator.set_lmp_exe('/home/jinho93/Downloads/lammps-stable_29Sep2021_update2/src/lmp_intel_cpu_intelmpi')\n",
    "\n",
    "sets_of_forces = []\n",
    "structures = [Structure.from_file(f'mono/POSCAR-0{i:02d}') for i in range(1, 19)]\n",
    "for e, f, s in efs_calculator.calculate(structures):\n",
    "    sets_of_forces.append(f)"
   ]
  },
  {
   "cell_type": "code",
   "execution_count": 1,
   "id": "03ddf967",
   "metadata": {},
   "outputs": [
    {
     "ename": "TypeError",
     "evalue": "Array shape of cell is not 3x3.",
     "output_type": "error",
     "traceback": [
      "\u001b[0;31m---------------------------------------------------------------------------\u001b[0m",
      "\u001b[0;31mTypeError\u001b[0m                                 Traceback (most recent call last)",
      "\u001b[0;32m/tmp/ipykernel_5033/3391372238.py\u001b[0m in \u001b[0;36m<module>\u001b[0;34m\u001b[0m\n\u001b[1;32m      8\u001b[0m                  \u001b[0mnp\u001b[0m\u001b[0;34m.\u001b[0m\u001b[0midentity\u001b[0m\u001b[0;34m(\u001b[0m\u001b[0;36m3\u001b[0m\u001b[0;34m)\u001b[0m \u001b[0;34m*\u001b[0m \u001b[0;36m4\u001b[0m\u001b[0;34m,\u001b[0m\u001b[0;34m\u001b[0m\u001b[0;34m\u001b[0m\u001b[0m\n\u001b[1;32m      9\u001b[0m \u001b[0;31m#                  primitive_matrix=np.reshape('0.0 0.5 0.5  0.5 0.0 0.5  0.5 0.5 0.0'.split(), (3, 3)))\u001b[0m\u001b[0;34m\u001b[0m\u001b[0;34m\u001b[0m\u001b[0;34m\u001b[0m\u001b[0m\n\u001b[0;32m---> 10\u001b[0;31m                   primitive_matrix=np.identity(3))\n\u001b[0m",
      "\u001b[0;32m~/miniconda3/envs/mlph/lib/python3.7/site-packages/phonopy/api_phonopy.py\u001b[0m in \u001b[0;36m__init__\u001b[0;34m(self, unitcell, supercell_matrix, primitive_matrix, nac_params, factor, frequency_scale_factor, dynamical_matrix_decimals, force_constants_decimals, group_velocity_delta_q, symprec, is_symmetry, store_dense_svecs, calculator, use_lapack_solver, log_level)\u001b[0m\n\u001b[1;32m    160\u001b[0m \u001b[0;34m\u001b[0m\u001b[0m\n\u001b[1;32m    161\u001b[0m         \u001b[0;31m# Create supercell and primitive cell\u001b[0m\u001b[0;34m\u001b[0m\u001b[0;34m\u001b[0m\u001b[0;34m\u001b[0m\u001b[0m\n\u001b[0;32m--> 162\u001b[0;31m         \u001b[0mself\u001b[0m\u001b[0;34m.\u001b[0m\u001b[0m_unitcell\u001b[0m \u001b[0;34m=\u001b[0m \u001b[0mPhonopyAtoms\u001b[0m\u001b[0;34m(\u001b[0m\u001b[0matoms\u001b[0m\u001b[0;34m=\u001b[0m\u001b[0munitcell\u001b[0m\u001b[0;34m)\u001b[0m\u001b[0;34m\u001b[0m\u001b[0;34m\u001b[0m\u001b[0m\n\u001b[0m\u001b[1;32m    163\u001b[0m         \u001b[0mself\u001b[0m\u001b[0;34m.\u001b[0m\u001b[0m_supercell_matrix\u001b[0m \u001b[0;34m=\u001b[0m \u001b[0mself\u001b[0m\u001b[0;34m.\u001b[0m\u001b[0m_shape_supercell_matrix\u001b[0m\u001b[0;34m(\u001b[0m\u001b[0msupercell_matrix\u001b[0m\u001b[0;34m)\u001b[0m\u001b[0;34m\u001b[0m\u001b[0;34m\u001b[0m\u001b[0m\n\u001b[1;32m    164\u001b[0m         \u001b[0;32mif\u001b[0m \u001b[0misinstance\u001b[0m\u001b[0;34m(\u001b[0m\u001b[0mprimitive_matrix\u001b[0m\u001b[0;34m,\u001b[0m \u001b[0mstr\u001b[0m\u001b[0;34m)\u001b[0m\u001b[0;34m:\u001b[0m\u001b[0;34m\u001b[0m\u001b[0;34m\u001b[0m\u001b[0m\n",
      "\u001b[0;32m~/miniconda3/envs/mlph/lib/python3.7/site-packages/phonopy/structure/atoms.py\u001b[0m in \u001b[0;36m__init__\u001b[0;34m(self, symbols, numbers, masses, magmoms, scaled_positions, positions, cell, atoms, pbc)\u001b[0m\n\u001b[1;32m     94\u001b[0m                 \u001b[0mpositions\u001b[0m\u001b[0;34m=\u001b[0m\u001b[0mpositions\u001b[0m\u001b[0;34m,\u001b[0m\u001b[0;34m\u001b[0m\u001b[0;34m\u001b[0m\u001b[0m\n\u001b[1;32m     95\u001b[0m                 \u001b[0mcell\u001b[0m\u001b[0;34m=\u001b[0m\u001b[0mcell\u001b[0m\u001b[0;34m,\u001b[0m\u001b[0;34m\u001b[0m\u001b[0;34m\u001b[0m\u001b[0m\n\u001b[0;32m---> 96\u001b[0;31m                 \u001b[0mpbc\u001b[0m\u001b[0;34m=\u001b[0m\u001b[0;32mTrue\u001b[0m\u001b[0;34m,\u001b[0m\u001b[0;34m\u001b[0m\u001b[0;34m\u001b[0m\u001b[0m\n\u001b[0m\u001b[1;32m     97\u001b[0m             )\n\u001b[1;32m     98\u001b[0m \u001b[0;34m\u001b[0m\u001b[0m\n",
      "\u001b[0;32m~/miniconda3/envs/mlph/lib/python3.7/site-packages/phonopy/structure/atoms.py\u001b[0m in \u001b[0;36m_set_parameters\u001b[0;34m(self, symbols, numbers, masses, magmoms, scaled_positions, positions, cell, atoms, pbc)\u001b[0m\n\u001b[1;32m    112\u001b[0m         \u001b[0mself\u001b[0m\u001b[0;34m.\u001b[0m\u001b[0m_scaled_positions\u001b[0m \u001b[0;34m=\u001b[0m \u001b[0;32mNone\u001b[0m\u001b[0;34m\u001b[0m\u001b[0;34m\u001b[0m\u001b[0m\n\u001b[1;32m    113\u001b[0m         self._set_cell_and_positions(\n\u001b[0;32m--> 114\u001b[0;31m             \u001b[0mcell\u001b[0m\u001b[0;34m,\u001b[0m \u001b[0mpositions\u001b[0m\u001b[0;34m=\u001b[0m\u001b[0mpositions\u001b[0m\u001b[0;34m,\u001b[0m \u001b[0mscaled_positions\u001b[0m\u001b[0;34m=\u001b[0m\u001b[0mscaled_positions\u001b[0m\u001b[0;34m\u001b[0m\u001b[0;34m\u001b[0m\u001b[0m\n\u001b[0m\u001b[1;32m    115\u001b[0m         )\n\u001b[1;32m    116\u001b[0m         \u001b[0mself\u001b[0m\u001b[0;34m.\u001b[0m\u001b[0m_symbols\u001b[0m \u001b[0;34m=\u001b[0m \u001b[0msymbols\u001b[0m\u001b[0;34m\u001b[0m\u001b[0;34m\u001b[0m\u001b[0m\n",
      "\u001b[0;32m~/miniconda3/envs/mlph/lib/python3.7/site-packages/phonopy/structure/atoms.py\u001b[0m in \u001b[0;36m_set_cell_and_positions\u001b[0;34m(self, cell, positions, scaled_positions)\u001b[0m\n\u001b[1;32m    388\u001b[0m \u001b[0;34m\u001b[0m\u001b[0m\n\u001b[1;32m    389\u001b[0m     \u001b[0;32mdef\u001b[0m \u001b[0m_set_cell_and_positions\u001b[0m\u001b[0;34m(\u001b[0m\u001b[0mself\u001b[0m\u001b[0;34m,\u001b[0m \u001b[0mcell\u001b[0m\u001b[0;34m,\u001b[0m \u001b[0mpositions\u001b[0m\u001b[0;34m=\u001b[0m\u001b[0;32mNone\u001b[0m\u001b[0;34m,\u001b[0m \u001b[0mscaled_positions\u001b[0m\u001b[0;34m=\u001b[0m\u001b[0;32mNone\u001b[0m\u001b[0;34m)\u001b[0m\u001b[0;34m:\u001b[0m\u001b[0;34m\u001b[0m\u001b[0;34m\u001b[0m\u001b[0m\n\u001b[0;32m--> 390\u001b[0;31m         \u001b[0mself\u001b[0m\u001b[0;34m.\u001b[0m\u001b[0m_set_cell\u001b[0m\u001b[0;34m(\u001b[0m\u001b[0mcell\u001b[0m\u001b[0;34m)\u001b[0m\u001b[0;34m\u001b[0m\u001b[0;34m\u001b[0m\u001b[0m\n\u001b[0m\u001b[1;32m    391\u001b[0m         \u001b[0;32mif\u001b[0m \u001b[0mpositions\u001b[0m \u001b[0;32mis\u001b[0m \u001b[0;32mnot\u001b[0m \u001b[0;32mNone\u001b[0m\u001b[0;34m:\u001b[0m\u001b[0;34m\u001b[0m\u001b[0;34m\u001b[0m\u001b[0m\n\u001b[1;32m    392\u001b[0m             \u001b[0mself\u001b[0m\u001b[0;34m.\u001b[0m\u001b[0m_set_positions\u001b[0m\u001b[0;34m(\u001b[0m\u001b[0mpositions\u001b[0m\u001b[0;34m)\u001b[0m\u001b[0;34m\u001b[0m\u001b[0;34m\u001b[0m\u001b[0m\n",
      "\u001b[0;32m~/miniconda3/envs/mlph/lib/python3.7/site-packages/phonopy/structure/atoms.py\u001b[0m in \u001b[0;36m_set_cell\u001b[0;34m(self, cell)\u001b[0m\n\u001b[1;32m    365\u001b[0m             \u001b[0mself\u001b[0m\u001b[0;34m.\u001b[0m\u001b[0m_cell\u001b[0m \u001b[0;34m=\u001b[0m \u001b[0m_cell\u001b[0m\u001b[0;34m\u001b[0m\u001b[0;34m\u001b[0m\u001b[0m\n\u001b[1;32m    366\u001b[0m         \u001b[0;32melse\u001b[0m\u001b[0;34m:\u001b[0m\u001b[0;34m\u001b[0m\u001b[0;34m\u001b[0m\u001b[0m\n\u001b[0;32m--> 367\u001b[0;31m             \u001b[0;32mraise\u001b[0m \u001b[0mTypeError\u001b[0m\u001b[0;34m(\u001b[0m\u001b[0;34m\"Array shape of cell is not 3x3.\"\u001b[0m\u001b[0;34m)\u001b[0m\u001b[0;34m\u001b[0m\u001b[0;34m\u001b[0m\u001b[0m\n\u001b[0m\u001b[1;32m    368\u001b[0m \u001b[0;34m\u001b[0m\u001b[0m\n\u001b[1;32m    369\u001b[0m     \u001b[0;32mdef\u001b[0m \u001b[0m_set_positions\u001b[0m\u001b[0;34m(\u001b[0m\u001b[0mself\u001b[0m\u001b[0;34m,\u001b[0m \u001b[0mcart_positions\u001b[0m\u001b[0;34m)\u001b[0m\u001b[0;34m:\u001b[0m\u001b[0;34m\u001b[0m\u001b[0;34m\u001b[0m\u001b[0m\n",
      "\u001b[0;31mTypeError\u001b[0m: Array shape of cell is not 3x3."
     ]
    }
   ],
   "source": [
    "\n",
    "from phonopy import Phonopy\n",
    "import numpy as np\n",
    "\n",
    "from phonopy.interface.calculator import read_crystal_structure\n",
    "unitcell, _ = read_crystal_structure(\"POSCAR\", interface_mode='vasp')\n",
    "\n",
    "phonon = Phonopy(unitcell,\n",
    "                 np.identity(3) * 4,\n",
    "#                  primitive_matrix=np.reshape('0.0 0.5 0.5  0.5 0.0 0.5  0.5 0.5 0.0'.split(), (3, 3)))\n",
    "                  primitive_matrix=np.identity(3))"
   ]
  },
  {
   "cell_type": "code",
   "execution_count": null,
   "id": "cc81a637",
   "metadata": {},
   "outputs": [],
   "source": [
    "phonon.generate_displacements(distance=0.01)\n",
    "\n",
    "phonon.set_forces(sets_of_forces)\n",
    "\n",
    "phonon.produce_force_constants()"
   ]
  },
  {
   "cell_type": "code",
   "execution_count": null,
   "id": "d7df6247",
   "metadata": {},
   "outputs": [],
   "source": [
    "phonon._factor = phonon.get_unit_conversion_factor() * 33.4"
   ]
  },
  {
   "cell_type": "code",
   "execution_count": null,
   "id": "8a0ad8fe",
   "metadata": {},
   "outputs": [],
   "source": [
    "from phonopy.phonon.band_structure import get_band_qpoints\n",
    "from phonopy.phonon.band_structure import get_band_qpoints_and_path_connections\n",
    "path = [[[0, 0, 0], [0.0, 0, 0.5], [-0.5, 0.0, 0.5], [-0.5, 0.0, 0.5], [0, 0, 0]],\n",
    "        [[0, 0, 0], [-0.5, 0.5, 0.5], [0.5, 0, 0], [0.0, 0.0, 0.0]]]\n",
    "path = [[[0, 0, 0], [0, 0.5, 0.0], [0.5, 0.5, 0], [0, 0, 0]],\n",
    "        [[0, 0, 0], [0.0, 0.0, 0.5], [0.5, 0.0, 0.5], [0.5, 0.5, 0.5]]]\n",
    "#labels = [\"$\\\\Gamma$\", \"X\", \"M\", \"M\", \"$\\\\Gamma$\", \"R\", \"M\"]\n",
    "#qpoints, connections = get_band_qpoints_and_path_connections(path, npoints=51)\n",
    "#phonon.run_band_structure(qpoints, path_connections=connections, labels=labels, with_eigenvectors=True)\n",
    "#phonon.plot_band_structure().show()\n",
    "\n",
    "phonon.auto_band_structure(plot=True, with_eigenvectors=True).show()"
   ]
  },
  {
   "cell_type": "code",
   "execution_count": null,
   "id": "f5f98a9f",
   "metadata": {},
   "outputs": [],
   "source": [
    "phonon.write_animation([0.5,0.5,0], anime_type='v_sim')\n",
    "#phonon.write_animation([0.5,0.0,0], band_index=0,amplitude=5, num_div=20, anime_type='xyz')"
   ]
  },
  {
   "cell_type": "code",
   "execution_count": null,
   "id": "feac1cb7",
   "metadata": {},
   "outputs": [],
   "source": [
    "import os\n",
    "os.chdir('/home/jinho93/ml/ml-lao/6248/phon')\n",
    "\n",
    "from phonopy import Phonopy\n",
    "import numpy as np\n",
    "\n",
    "from phonopy.interface.calculator import read_crystal_structure\n",
    "unitcell, _ = read_crystal_structure(\"BPOSCAR\", interface_mode='vasp')\n",
    "\n",
    "phonon = Phonopy(unitcell,\n",
    "                 [[2, 0, 0], [0, 2, 0], [0, 0, 2]],\n",
    "                 primitive_matrix=[[0, 0.5, 0.5],\n",
    "                                   [0.5, 0, 0.5],\n",
    "                                   [1, 2, 1/3]])"
   ]
  },
  {
   "cell_type": "code",
   "execution_count": null,
   "id": "c09bea5e",
   "metadata": {},
   "outputs": [],
   "source": [
    "phonon.generate_displacements()\n",
    "phonon.write_\n",
    "supercells = phonon.supercells_with_displacements\n",
    "print(supercells[0])"
   ]
  },
  {
   "cell_type": "code",
   "execution_count": null,
   "id": "f4ace2bb",
   "metadata": {},
   "outputs": [],
   "source": [
    "from maml.apps.pes import EnergyForceStress\n",
    "\n",
    "sets_of_forces = []\n",
    "efs_calculator = EnergyForceStress(ff_settings=nnp)\n",
    "# efs_calculator.LMP_EXE = '/home/jinho93/Downloads/n2p2/bin/lmp_mpi'\n",
    "efs_calculator.set_lmp_exe('/home/jinho93/Downloads/n2p2/bin/lmp_mpi')\n",
    "\n",
    "for s in supercells:\n",
    "    struct = Structure(s.cell, s.get_chemical_symbols(), s.get_scaled_positions())\n",
    "    struct.to('POSCAR', f'POSCAR-{n}')\n",
    "    energy, forces, stresses = efs_calculator.calculate([struct])[0]\n",
    "    sets_of_forces.append(forces)\n",
    "    break"
   ]
  },
  {
   "cell_type": "code",
   "execution_count": null,
   "id": "8c9e2c48",
   "metadata": {},
   "outputs": [],
   "source": [
    "efs_calculator = EnergyForceStress(ff_settings=snap)\n",
    "# efs_calculator.set_lmp_exe('/home/jinho93/Downloads/ls /bin/lmp_mpi')\n",
    "efs_calculator.set_lmp_exe('/home/jinho93/Downloads/lammps-stable_29Sep2021_update2/src/lmp_intel_cpu_intelmpi')\n",
    "output = efs_calculator.calculate(train_structures)"
   ]
  },
  {
   "cell_type": "code",
   "execution_count": null,
   "id": "450f3bca",
   "metadata": {},
   "outputs": [],
   "source": [
    "for i, j in zip(output, train_forces):\n",
    "    print(i[1][0], j[0])"
   ]
  },
  {
   "cell_type": "code",
   "execution_count": null,
   "id": "bb6d00b6",
   "metadata": {},
   "outputs": [],
   "source": [
    "output[0][1]"
   ]
  },
  {
   "cell_type": "code",
   "execution_count": null,
   "id": "5f86a680",
   "metadata": {},
   "outputs": [],
   "source": []
  }
 ],
 "metadata": {
  "kernelspec": {
   "display_name": "mlph",
   "language": "python",
   "name": "python3"
  },
  "language_info": {
   "codemirror_mode": {
    "name": "ipython",
    "version": 3
   },
   "file_extension": ".py",
   "mimetype": "text/x-python",
   "name": "python",
   "nbconvert_exporter": "python",
   "pygments_lexer": "ipython3",
   "version": "3.7.6"
  },
  "vscode": {
   "interpreter": {
    "hash": "4efa72b9e8c95fd697b6b74d8a5341ea69d67d595bf771b99c2ac758c66a375a"
   }
  }
 },
 "nbformat": 4,
 "nbformat_minor": 5
}

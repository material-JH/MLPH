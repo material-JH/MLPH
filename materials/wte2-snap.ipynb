{
 "cells": [
  {
   "cell_type": "code",
   "execution_count": 1,
   "metadata": {},
   "outputs": [],
   "source": [
    "import os\n",
    "\n",
    "os.chdir('/home/jinho93/tmdc/WTe2/mo-alloy/nonpolar/conf1/ps/md/more')"
   ]
  },
  {
   "cell_type": "code",
   "execution_count": 4,
   "metadata": {},
   "outputs": [],
   "source": [
    "from pymatgen import Structure\n",
    "from monty.serialization import loadfn\n",
    "\n",
    "data = loadfn('data.json')\n",
    "train_structures = [d['structure'] for d in data]\n",
    "train_energies = [d['outputs']['energy'] for d in data]\n",
    "train_forces = [d['outputs']['forces'] for d in data]"
   ]
  },
  {
   "cell_type": "code",
   "execution_count": 22,
   "metadata": {},
   "outputs": [
    {
     "name": "stderr",
     "output_type": "stream",
     "text": [
      "INFO:maml.apps.pes._lammps:Setting Lammps executable to lmp_serial\n",
      "/home/jinho93/miniconda3/envs/mlph/lib/python3.7/site-packages/sklearn/utils/validation.py:1692: FutureWarning: Feature names only support names that are all strings. Got feature names with dtypes: ['tuple']. An error will be raised in 1.2.\n",
      "  FutureWarning,\n"
     ]
    }
   ],
   "source": [
    "import numpy as np\n",
    "from maml.utils import pool_from, convert_docs\n",
    "\n",
    "train_pool = pool_from(train_structures, train_energies, train_forces)\n",
    "_, df = convert_docs(train_pool)\n",
    "\n",
    "weights = np.ones(len(df['dtype']), )\n",
    "\n",
    "# set the weights for energy equal to 100\n",
    "weights[df['dtype'] == 'force'] = 100\n",
    "\n",
    "from maml.base import SKLModel\n",
    "from maml.describers import BispectrumCoefficients\n",
    "from sklearn.linear_model import LinearRegression\n",
    "from maml.apps.pes import SNAPotential\n",
    "\n",
    "element_profile = {'Mo': {'r': 5.0, 'w': 1}, 'W': {'r': 5.0, 'w': 1}, 'Te': {'r': 5.0, 'w': 1}}\n",
    "describer = BispectrumCoefficients(rcutfac=0.5, twojmax=8, element_profile=element_profile, \n",
    "                                   quadratic=False, pot_fit=True)\n",
    "model = SKLModel(describer=describer, model=LinearRegression())\n",
    "snap = SNAPotential(model=model)\n",
    "snap.train(train_structures, train_energies, train_forces, sample_weight=weights)"
   ]
  },
  {
   "cell_type": "code",
   "execution_count": 23,
   "metadata": {},
   "outputs": [
    {
     "data": {
      "text/plain": [
       "['pair_style        snap',\n",
       " 'pair_coeff        * * SNAPotential.snapcoeff SNAPotential.snapparam Te Mo W']"
      ]
     },
     "execution_count": 23,
     "metadata": {},
     "output_type": "execute_result"
    }
   ],
   "source": [
    "snap.write_param()"
   ]
  },
  {
   "cell_type": "code",
   "execution_count": 27,
   "metadata": {},
   "outputs": [
    {
     "name": "stderr",
     "output_type": "stream",
     "text": [
      "INFO:maml.apps.pes._lammps:Setting Lammps executable to lmp_serial\n",
      "INFO:maml.apps.pes._lammps:Setting Lammps executable to lmp_serial\n"
     ]
    }
   ],
   "source": [
    "from maml.apps.pes import EnergyForceStress\n",
    "\n",
    "snap_loaded = SNAPotential.from_config(param_file='SNAPotential.snapparam', coeff_file='SNAPotential.snapcoeff')\n",
    "efs_calculator = EnergyForceStress(ff_settings=snap_loaded)\n",
    "energy, forces, stresses = efs_calculator.calculate([train_structures[1]])[0]"
   ]
  },
  {
   "cell_type": "code",
   "execution_count": 28,
   "metadata": {},
   "outputs": [
    {
     "data": {
      "text/plain": [
       "array([[ 0.27979442,  0.01782325,  0.63310421],\n",
       "       [-0.24547336, -0.57390969, -1.10617118],\n",
       "       [ 0.01216847,  0.26463131, -0.69286571],\n",
       "       [ 0.35308789,  0.09436893,  0.72469003],\n",
       "       [-0.73629025,  0.18691734, -0.90410654],\n",
       "       [ 0.18788008, -1.0962712 , -0.69290261],\n",
       "       [-0.55676081,  0.21108372, -0.1628396 ],\n",
       "       [ 0.71920509,  0.49161086,  1.28471646],\n",
       "       [-0.10367151, -0.22121414, -0.49840986],\n",
       "       [-0.27214034,  0.49226066,  0.99331104],\n",
       "       [ 0.66251445, -0.39862958, -0.22066259],\n",
       "       [ 0.63377511,  0.51491357, -0.88132315],\n",
       "       [-0.19337644, -0.01007738, -0.64268836],\n",
       "       [ 0.60221452, -0.32839713,  0.23763696],\n",
       "       [ 0.17868317, -0.2789173 ,  0.30566515],\n",
       "       [-0.57397138,  0.41590673, -0.18415211],\n",
       "       [ 0.21286794, -0.22866563, -0.07212231],\n",
       "       [-0.13504735, -0.04159042,  0.20795117],\n",
       "       [-0.02847632,  0.29032393,  0.00384842],\n",
       "       [-0.20162254, -0.67193236, -0.88184167],\n",
       "       [ 0.03672308, -0.31635729,  0.05645792],\n",
       "       [-0.02661763,  0.74262064,  0.22025719],\n",
       "       [-0.18671893,  0.06784759,  0.45291948],\n",
       "       [-0.11406391,  0.02372711, -0.48898524],\n",
       "       [-1.41585956,  0.35815322, -1.00583188],\n",
       "       [ 0.65606878,  0.15497076,  0.10930821],\n",
       "       [-0.15302536, -0.26724741, -0.57925037],\n",
       "       [-0.09627831,  0.51767003, -0.07778708],\n",
       "       [ 0.20889153, -0.1277016 , -0.64353483],\n",
       "       [ 0.28838468,  0.06955957, -0.78420163],\n",
       "       [ 0.01927748,  0.01923452, -0.53027833],\n",
       "       [ 0.34210127,  0.39427905, -0.4899927 ],\n",
       "       [-0.08112075, -0.59769968, -0.60945332],\n",
       "       [-0.40519798,  0.52107219, -0.33962058],\n",
       "       [ 0.40547264, -0.44155875, -0.18991877],\n",
       "       [ 0.11729372,  0.5483591 , -0.08858418],\n",
       "       [-0.18343542,  0.05662226,  0.04723235],\n",
       "       [-0.19074234,  0.14639593, -0.04759883],\n",
       "       [ 0.26161903, -0.11131389,  0.22839716],\n",
       "       [ 0.22393133,  0.14682338, -0.34335132],\n",
       "       [-0.10642956,  0.08800227, -0.27977691],\n",
       "       [-0.26579287, -0.13976685, -0.48409706],\n",
       "       [ 0.1920733 ,  0.38253672,  0.80140802],\n",
       "       [-0.05095921, -0.14037928, -0.34441594],\n",
       "       [-0.48169892,  0.14513998, -0.90428332],\n",
       "       [ 0.20480279,  0.58435894,  1.38496966],\n",
       "       [ 0.03893608, -0.14367321,  0.96847485],\n",
       "       [ 0.6352744 , -0.26162404,  1.58066599],\n",
       "       [-0.28359598,  0.12205137, -0.2191775 ],\n",
       "       [ 0.19811996,  0.33699222,  0.06244062],\n",
       "       [-0.14469836, -0.40564814, -0.31022881],\n",
       "       [-0.32350619, -0.08729775,  0.77530995],\n",
       "       [-0.01571964, -0.30445546,  0.28185153],\n",
       "       [ 0.08448611, -0.45276217,  0.78748509],\n",
       "       [-0.37434551, -0.09232722, -0.53546035],\n",
       "       [ 0.17636175, -0.30801794, -0.20158608],\n",
       "       [ 0.2141375 ,  0.40631623,  0.71754845],\n",
       "       [ 0.21129085, -0.05666372, -0.38685104],\n",
       "       [ 0.35134986,  0.40643006, -0.10596391],\n",
       "       [ 0.26446173,  0.31093652, -1.03447072],\n",
       "       [-1.05804699, -0.00610883,  1.58776065],\n",
       "       [ 0.34219689,  0.2735959 , -0.00679997],\n",
       "       [-0.05242201,  0.54598693, -0.23728235],\n",
       "       [ 0.24507559,  0.45638288, -0.31216708],\n",
       "       [-0.29698108, -0.17014386, -0.31179754],\n",
       "       [-0.10020692, -0.6833023 , -0.3520715 ],\n",
       "       [-0.25799801,  0.0297183 , -0.20658813],\n",
       "       [ 0.43376964, -0.20176819,  0.12178927],\n",
       "       [ 0.2027581 , -0.27873099,  0.27853041],\n",
       "       [-0.21556719,  0.1806037 , -0.24281691],\n",
       "       [-0.29909717, -0.20311014,  0.04656056],\n",
       "       [-0.37387461,  0.47326113, -0.54457719],\n",
       "       [-0.3805975 , -0.32682729,  0.6400132 ],\n",
       "       [ 0.14748343,  0.00757295,  0.51631893],\n",
       "       [-0.3958261 , -0.23706922, -0.87449653],\n",
       "       [-0.34679765, -0.21140318,  0.61579252],\n",
       "       [-0.181499  ,  0.34724381,  0.02582521],\n",
       "       [-0.25789559, -0.88567767, -1.55678636],\n",
       "       [-0.0155067 , -0.04369303, -0.65756271],\n",
       "       [ 0.14138225, -0.01982578,  0.33830962],\n",
       "       [ 0.4197841 , -0.42257146,  0.06824689],\n",
       "       [ 0.53040325,  0.45166652,  1.71369246],\n",
       "       [-0.19928292, -0.81276599,  0.42875736],\n",
       "       [ 0.30941322, -0.13818453,  0.66364174],\n",
       "       [-0.56207133, -0.46871005,  1.02859646],\n",
       "       [ 0.30294873, -0.25379323,  0.73921615],\n",
       "       [-0.14519253,  0.98319705, -0.3224574 ],\n",
       "       [-0.23074801, -0.14450695, -0.19405893],\n",
       "       [-0.01949042,  0.33381745, -0.39388208],\n",
       "       [ 0.98060195,  1.45262769,  0.14926667],\n",
       "       [ 0.2113962 ,  0.55699061,  0.73975421],\n",
       "       [-0.2277722 , -1.15300197,  0.29355911],\n",
       "       [-0.07059084, -0.84419635,  0.34154337],\n",
       "       [-0.12628265, -0.23929261, -0.54999878],\n",
       "       [ 0.21249756,  0.73663961,  0.66824734],\n",
       "       [ 0.24814216, -0.51204521,  0.87908634]])"
      ]
     },
     "execution_count": 28,
     "metadata": {},
     "output_type": "execute_result"
    }
   ],
   "source": [
    "train_forces[1] - forces"
   ]
  },
  {
   "cell_type": "code",
   "execution_count": 21,
   "metadata": {},
   "outputs": [
    {
     "data": {
      "text/plain": [
       "-8.057020828175041"
      ]
     },
     "execution_count": 21,
     "metadata": {},
     "output_type": "execute_result"
    }
   ],
   "source": [
    "train_energies[0] - energy\n"
   ]
  },
  {
   "cell_type": "code",
   "execution_count": null,
   "metadata": {},
   "outputs": [],
   "source": []
  }
 ],
 "metadata": {
  "interpreter": {
   "hash": "4efa72b9e8c95fd697b6b74d8a5341ea69d67d595bf771b99c2ac758c66a375a"
  },
  "kernelspec": {
   "display_name": "Python 3.7.6 64-bit ('mlph': conda)",
   "language": "python",
   "name": "python3"
  },
  "language_info": {
   "codemirror_mode": {
    "name": "ipython",
    "version": 3
   },
   "file_extension": ".py",
   "mimetype": "text/x-python",
   "name": "python",
   "nbconvert_exporter": "python",
   "pygments_lexer": "ipython3",
   "version": "3.7.6"
  },
  "orig_nbformat": 4
 },
 "nbformat": 4,
 "nbformat_minor": 2
}

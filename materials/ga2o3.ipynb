{
 "cells": [
  {
   "cell_type": "code",
   "execution_count": null,
   "metadata": {},
   "outputs": [
    {
     "ename": "",
     "evalue": "",
     "output_type": "error",
     "traceback": [
      "\u001b[1;31mJupyter cannot be started. Error attempting to locate Jupyter: Running cells requires jupyter and notebook package.\n",
      "\u001b[1;31mRun the following command to install 'jupyter and notebook' into the Python environment. \n",
      "\u001b[1;31mCommand: 'python -m pip install jupyter notebook -U\n",
      "\u001b[1;31mor\n",
      "\u001b[1;31mconda install jupyter notebook -U'\n",
      "\u001b[1;31mClick <a href='https://aka.ms/installJupyterForVSCode'>here</a> for more info."
     ]
    }
   ],
   "source": [
    "import os\n",
    "\n",
    "os.chdir('/home/jinho93/ml/gallium-oxide/pristine/beta/mlff')"
   ]
  },
  {
   "cell_type": "code",
   "execution_count": 2,
   "metadata": {},
   "outputs": [],
   "source": [
    "from glob import glob\n",
    "\n",
    "from pymatgen.io.vasp.outputs import Vasprun\n",
    "\n",
    "\n",
    "from monty.serialization import loadfn\n",
    "\n",
    "data = loadfn('data.json')\n",
    "train_structures = [d['structure'] for d in data]\n",
    "train_energies = [d['outputs']['energy'] for d in data]\n",
    "train_forces = [d['outputs']['forces'] for d in data]\n",
    "\n",
    "def get_document(n, vrun):\n",
    "    structure = vrun.ionic_steps[n]['structure']\n",
    "    energy = vrun.ionic_steps[n]['e_wo_entrp']\n",
    "    forces = vrun.ionic_steps[n]['forces']\n",
    "    return structure, energy, forces\n",
    "\n",
    "train_structures = []\n",
    "train_energies = []\n",
    "train_forces = []\n",
    "\n",
    "vrun_files = glob(\"vasprun*\")\n",
    "vrun = Vasprun(vrun_files[0])\n",
    "for v in range(vrun.nionic_steps):\n",
    "    s, e, f = get_document(v, vrun)\n",
    "    train_structures.append(s)\n",
    "    train_energies.append(e)\n",
    "    train_forces.append(f)"
   ]
  },
  {
   "cell_type": "code",
   "execution_count": 4,
   "metadata": {},
   "outputs": [],
   "source": [
    "import numpy as np\n",
    "from maml.utils import pool_from, convert_docs\n",
    "\n",
    "train_pool = pool_from(train_structures, train_energies, train_forces)\n",
    "_, df = convert_docs(train_pool)\n",
    "\n",
    "weights = np.ones(len(df['dtype']), )\n",
    "\n",
    "# set the weights for energy equal to 100\n",
    "weights[df['dtype'] == 'energy'] = 10"
   ]
  },
  {
   "cell_type": "code",
   "execution_count": 5,
   "metadata": {},
   "outputs": [
    {
     "name": "stderr",
     "output_type": "stream",
     "text": [
      "/home/jinho93/micromamba/envs/mlph/lib/python3.10/site-packages/maml/apps/pes/_lammps.py:35: FutureWarning: which is deprecated; use which in shutil instead.\n",
      "shutil.which has been available since Python 3.3. This will be removed in v2023.\n",
      "  if which(lmp_exe) is not None:\n",
      "INFO:maml.apps.pes._lammps:Setting Lammps executable to lmp_serial\n",
      "/home/jinho93/micromamba/envs/mlph/lib/python3.10/site-packages/maml/apps/pes/_lammps.py:82: FutureWarning: which is deprecated; use which in shutil instead.\n",
      "shutil.which has been available since Python 3.3. This will be removed in v2023.\n",
      "  if not which(lmp_exe):\n",
      "WARNING:maml.apps.pes._snap:Triclinic structures will be rotated to lammps format. Please be sure to rotate forces and stresses to get the correct mapping for ensuring correct mapping. You may use`maml.utils.check_structures_forces_stresses` to do the correct rotations.\n",
      "INFO:maml.utils._lammps:Structure index 0 is rotated.\n",
      "INFO:maml.utils._lammps:Structure index 1 is rotated.\n",
      "INFO:maml.utils._lammps:Structure index 2 is rotated.\n",
      "INFO:maml.utils._lammps:Structure index 3 is rotated.\n",
      "INFO:maml.utils._lammps:Structure index 4 is rotated.\n",
      "INFO:maml.utils._lammps:Structure index 5 is rotated.\n",
      "INFO:maml.utils._lammps:Structure index 6 is rotated.\n",
      "INFO:maml.utils._lammps:Structure index 7 is rotated.\n",
      "INFO:maml.utils._lammps:Structure index 8 is rotated.\n",
      "INFO:maml.utils._lammps:Structure index 9 is rotated.\n",
      "INFO:maml.utils._lammps:Structure index 10 is rotated.\n",
      "INFO:maml.utils._lammps:Structure index 11 is rotated.\n",
      "INFO:maml.utils._lammps:Structure index 12 is rotated.\n",
      "INFO:maml.utils._lammps:Structure index 13 is rotated.\n",
      "INFO:maml.utils._lammps:Structure index 14 is rotated.\n",
      "INFO:maml.utils._lammps:Structure index 15 is rotated.\n",
      "INFO:maml.utils._lammps:Structure index 16 is rotated.\n",
      "INFO:maml.utils._lammps:Structure index 17 is rotated.\n",
      "INFO:maml.utils._lammps:Structure index 18 is rotated.\n",
      "INFO:maml.utils._lammps:Structure index 19 is rotated.\n",
      "INFO:maml.utils._lammps:Structure index 20 is rotated.\n",
      "INFO:maml.utils._lammps:Structure index 21 is rotated.\n",
      "INFO:maml.utils._lammps:Structure index 22 is rotated.\n",
      "INFO:maml.utils._lammps:Structure index 23 is rotated.\n",
      "INFO:maml.utils._lammps:Structure index 24 is rotated.\n",
      "INFO:maml.utils._lammps:Structure index 25 is rotated.\n",
      "INFO:maml.utils._lammps:Structure index 26 is rotated.\n",
      "INFO:maml.utils._lammps:Structure index 27 is rotated.\n",
      "INFO:maml.utils._lammps:Structure index 28 is rotated.\n",
      "INFO:maml.utils._lammps:Structure index 29 is rotated.\n",
      "INFO:maml.utils._lammps:Structure index 30 is rotated.\n",
      "INFO:maml.utils._lammps:Structure index 31 is rotated.\n",
      "INFO:maml.utils._lammps:Structure index 32 is rotated.\n",
      "INFO:maml.utils._lammps:Structure index 33 is rotated.\n",
      "INFO:maml.utils._lammps:Structure index 34 is rotated.\n",
      "INFO:maml.utils._lammps:Structure index 35 is rotated.\n",
      "INFO:maml.utils._lammps:Structure index 36 is rotated.\n",
      "INFO:maml.utils._lammps:Structure index 37 is rotated.\n",
      "INFO:maml.utils._lammps:Structure index 38 is rotated.\n",
      "INFO:maml.utils._lammps:Structure index 39 is rotated.\n",
      "INFO:maml.utils._lammps:Structure index 40 is rotated.\n",
      "INFO:maml.utils._lammps:Structure index 41 is rotated.\n",
      "INFO:maml.utils._lammps:Structure index 42 is rotated.\n",
      "INFO:maml.utils._lammps:Structure index 43 is rotated.\n",
      "INFO:maml.utils._lammps:Structure index 44 is rotated.\n",
      "INFO:maml.utils._lammps:Structure index 45 is rotated.\n",
      "INFO:maml.utils._lammps:Structure index 46 is rotated.\n",
      "INFO:maml.utils._lammps:Structure index 47 is rotated.\n",
      "INFO:maml.utils._lammps:Structure index 48 is rotated.\n",
      "INFO:maml.utils._lammps:Structure index 49 is rotated.\n",
      "INFO:maml.utils._lammps:Structure index 50 is rotated.\n",
      "INFO:maml.utils._lammps:Structure index 51 is rotated.\n",
      "INFO:maml.utils._lammps:Structure index 52 is rotated.\n",
      "INFO:maml.utils._lammps:Structure index 53 is rotated.\n",
      "INFO:maml.utils._lammps:Structure index 54 is rotated.\n",
      "INFO:maml.utils._lammps:Structure index 55 is rotated.\n",
      "INFO:maml.utils._lammps:Structure index 56 is rotated.\n",
      "INFO:maml.utils._lammps:Structure index 57 is rotated.\n",
      "INFO:maml.utils._lammps:Structure index 58 is rotated.\n",
      "INFO:maml.utils._lammps:Structure index 59 is rotated.\n",
      "INFO:maml.utils._lammps:Structure index 60 is rotated.\n",
      "INFO:maml.utils._lammps:Structure index 61 is rotated.\n",
      "INFO:maml.utils._lammps:Structure index 62 is rotated.\n",
      "INFO:maml.utils._lammps:Structure index 63 is rotated.\n",
      "INFO:maml.utils._lammps:Structure index 64 is rotated.\n",
      "INFO:maml.utils._lammps:Structure index 65 is rotated.\n",
      "INFO:maml.utils._lammps:Structure index 66 is rotated.\n",
      "INFO:maml.utils._lammps:Structure index 67 is rotated.\n",
      "INFO:maml.utils._lammps:Structure index 68 is rotated.\n",
      "INFO:maml.utils._lammps:Structure index 69 is rotated.\n",
      "INFO:maml.utils._lammps:Structure index 70 is rotated.\n",
      "INFO:maml.utils._lammps:Structure index 71 is rotated.\n",
      "INFO:maml.utils._lammps:Structure index 72 is rotated.\n",
      "INFO:maml.utils._lammps:Structure index 73 is rotated.\n",
      "INFO:maml.utils._lammps:Structure index 74 is rotated.\n",
      "INFO:maml.utils._lammps:Structure index 75 is rotated.\n"
     ]
    }
   ],
   "source": [
    "from maml.base import SKLModel\n",
    "from maml.describers import BispectrumCoefficients\n",
    "from sklearn.linear_model import LinearRegression\n",
    "from maml.apps.pes import SNAPotential\n",
    "\n",
    "element_profile = {'Ga': {'r': 5.0, 'w': 1}, 'O': {'r': 5.0, 'w': 1}}\n",
    "describer = BispectrumCoefficients(rcutfac=0.5, twojmax=6, element_profile=element_profile, \n",
    "                                   quadratic=False, pot_fit=True)\n",
    "model = SKLModel(describer=describer, model=LinearRegression())\n",
    "snap = SNAPotential(model=model)\n",
    "\n",
    "# snap.set_lmp_exe('/home/jinho93/Downloads/n2p2/bin/lmp_mpi')\n",
    "\n",
    "snap.train(train_structures, train_energies, train_forces, sample_weight=weights)\n",
    "\n",
    "snap.write_param()"
   ]
  },
  {
   "cell_type": "code",
   "execution_count": 3,
   "metadata": {},
   "outputs": [
    {
     "name": "stderr",
     "output_type": "stream",
     "text": [
      "/home/jinho93/micromamba/envs/mlph/lib/python3.10/site-packages/maml/apps/pes/_lammps.py:35: FutureWarning: which is deprecated; use which in shutil instead.\n",
      "shutil.which has been available since Python 3.3. This will be removed in v2023.\n",
      "  if which(lmp_exe) is not None:\n",
      "INFO:maml.apps.pes._lammps:Setting Lammps executable to lmp_serial\n",
      "/home/jinho93/micromamba/envs/mlph/lib/python3.10/site-packages/maml/apps/pes/_lammps.py:82: FutureWarning: which is deprecated; use which in shutil instead.\n",
      "shutil.which has been available since Python 3.3. This will be removed in v2023.\n",
      "  if not which(lmp_exe):\n",
      "WARNING:maml.apps.pes._snap:Triclinic structures will be rotated to lammps format. Please be sure to rotate forces and stresses to get the correct mapping for ensuring correct mapping. You may use`maml.utils.check_structures_forces_stresses` to do the correct rotations.\n"
     ]
    }
   ],
   "source": [
    "from maml.apps.pes import SNAPotential\n",
    "\n",
    "snap = SNAPotential.from_config('SNAPotential.snapparam', 'SNAPotential.snapcoeff')"
   ]
  },
  {
   "cell_type": "code",
   "execution_count": 5,
   "metadata": {},
   "outputs": [],
   "source": [
    "\n",
    "from phonopy import Phonopy\n",
    "import numpy as np\n",
    "\n",
    "from phonopy.interface.calculator import read_crystal_structure\n",
    "unitcell, _ = read_crystal_structure(\"POSCAR\", interface_mode='vasp')\n",
    "\n",
    "phonon = Phonopy(unitcell,\n",
    "                 np.identity(3) * 4,\n",
    "#                  primitive_matrix=np.reshape('0.0 0.5 0.5  0.5 0.0 0.5  0.5 0.5 0.0'.split(), (3, 3)))\n",
    "                  primitive_matrix=np.identity(3))"
   ]
  }
 ],
 "metadata": {
  "kernelspec": {
   "display_name": "Python 3",
   "language": "python",
   "name": "python3"
  },
  "language_info": {
   "codemirror_mode": {
    "name": "ipython",
    "version": 3
   },
   "file_extension": ".py",
   "mimetype": "text/x-python",
   "name": "python",
   "nbconvert_exporter": "python",
   "pygments_lexer": "ipython3",
   "version": "3.10.9"
  },
  "orig_nbformat": 4,
  "vscode": {
   "interpreter": {
    "hash": "683c2c65863d6857369a5fd161e7fa5805c61cbbfbb2b4a7093a35d79ae941c5"
   }
  }
 },
 "nbformat": 4,
 "nbformat_minor": 2
}
